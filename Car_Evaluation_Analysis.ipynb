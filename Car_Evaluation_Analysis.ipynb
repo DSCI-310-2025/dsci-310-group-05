{
 "cells": [
  {
   "cell_type": "markdown",
   "metadata": {},
   "source": [
    "# **Car Evaluation Analysis**\n",
    "\n",
    "### DSCI 310 2024W Group 5\n",
    "\n",
    "#### Authors:\n",
    "- Nika Karimi Seffat\n",
    "- Ethan Wang\n",
    "- Gautam Arora\n",
    "- Kevin Li"
   ]
  },
  {
   "cell_type": "markdown",
   "metadata": {},
   "source": [
    "### **Introduction**\n",
    "\n",
    "**Background**: \n",
    "\n",
    "Cars and personal transportation are an inevitable part of everyday life in the developed world. They play a crucial role in people's daily routines, enabling them to commute to work, travel, attend social gatherings, and explore new places. However, cars also pose significant safety risks. In 2023 alone, car accidents accounted for over 40,000 fatalities (Wikipedia Contributors, 2019). Given these risks, it is no surprise that many individuals seek ways to make car travel safer while maintaining its convenience and necessity.\n",
    "\n",
    "Research has shown that consumers are willing to invest in vehicle safety. For example, Andersson (2008) found that Swedish drivers were willing to pay a premium for improved car design and build quality to reduce the risk of injury in accidents. Additionally, design and material choices play a critical role in determining a vehicle's safety. Nygren (1983) found that factors such as a car’s weight, seatbelt design, and headrests significantly influenced accident survivability. More recently, Richter et al. (2005) demonstrated that passive safety improvements—such as enhanced structural integrity and interior design modifications—have contributed to a measurable decline in injury rates from car accidents. These findings highlight the importance of identifying key factors that contribute to vehicle safety.\n",
    "\n",
    "Given this context, our research project aims to answer the following question:\n",
    "\n",
    "**Can we predict the estimated safety of a car using various attributes, such as its buying price, capacity (persons), and maintenance cost?**\n",
    "\n",
    "To answer this question, we will use the Car Evaluation Dataset from UC Irvine’s Machine Learning Repository. This multivariate classification dataset contains six car design and classification variables, and includes 1,728 observations. Key variables that will be central to our analysis include the car’s buying price, maintenance cost, seating capacity (in terms of the number of passengers it can accommodate), and the car’s evaluation level (categorized as unacceptable, acceptable, good, or very good)."
   ]
  },
  {
   "cell_type": "markdown",
   "metadata": {
    "vscode": {
     "languageId": "plaintext"
    }
   },
   "source": [
    "## **Methods and Results**"
   ]
  },
  {
   "cell_type": "markdown",
   "metadata": {},
   "source": [
    "### **Data Loading**\n",
    "\n",
    "The dataset was retrieved from an online source and loaded into R for analysis using the read.csv function. This dataset contains categorical variables describing various attributes of cars, which will be used for classification."
   ]
  },
  {
   "cell_type": "code",
   "execution_count": 1,
   "metadata": {
    "vscode": {
     "languageId": "r"
    }
   },
   "outputs": [
    {
     "name": "stderr",
     "output_type": "stream",
     "text": [
      "Installing package into 'C:/Users/tarun/AppData/Local/R/win-library/4.3'\n",
      "(as 'lib' is unspecified)\n",
      "\n"
     ]
    },
    {
     "name": "stdout",
     "output_type": "stream",
     "text": [
      "package 'tidyverse' successfully unpacked and MD5 sums checked\n",
      "\n",
      "The downloaded binary packages are in\n",
      "\tC:\\Users\\tarun\\AppData\\Local\\Temp\\RtmpyMNWEt\\downloaded_packages\n"
     ]
    },
    {
     "name": "stderr",
     "output_type": "stream",
     "text": [
      "Installing package into 'C:/Users/tarun/AppData/Local/R/win-library/4.3'\n",
      "(as 'lib' is unspecified)\n",
      "\n"
     ]
    },
    {
     "name": "stdout",
     "output_type": "stream",
     "text": [
      "package 'class' successfully unpacked and MD5 sums checked\n",
      "\n",
      "The downloaded binary packages are in\n",
      "\tC:\\Users\\tarun\\AppData\\Local\\Temp\\RtmpyMNWEt\\downloaded_packages\n"
     ]
    },
    {
     "name": "stderr",
     "output_type": "stream",
     "text": [
      "Installing package into 'C:/Users/tarun/AppData/Local/R/win-library/4.3'\n",
      "(as 'lib' is unspecified)\n",
      "\n",
      "also installing the dependencies 'listenv', 'parallelly', 'future', 'globals', 'shape', 'future.apply', 'numDeriv', 'progressr', 'SQUAREM', 'diagram', 'lava', 'prodlim', 'proxy', 'iterators', 'Rcpp', 'clock', 'gower', 'hardhat', 'ipred', 'sparsevctrs', 'timeDate', 'e1071', 'foreach', 'ModelMetrics', 'plyr', 'pROC', 'recipes', 'reshape2'\n",
      "\n",
      "\n"
     ]
    },
    {
     "name": "stdout",
     "output_type": "stream",
     "text": [
      "package 'listenv' successfully unpacked and MD5 sums checked\n",
      "package 'parallelly' successfully unpacked and MD5 sums checked\n",
      "package 'future' successfully unpacked and MD5 sums checked\n",
      "package 'globals' successfully unpacked and MD5 sums checked\n",
      "package 'shape' successfully unpacked and MD5 sums checked\n",
      "package 'future.apply' successfully unpacked and MD5 sums checked\n",
      "package 'numDeriv' successfully unpacked and MD5 sums checked\n",
      "package 'progressr' successfully unpacked and MD5 sums checked\n",
      "package 'SQUAREM' successfully unpacked and MD5 sums checked\n",
      "package 'diagram' successfully unpacked and MD5 sums checked\n",
      "package 'lava' successfully unpacked and MD5 sums checked\n",
      "package 'prodlim' successfully unpacked and MD5 sums checked\n",
      "package 'proxy' successfully unpacked and MD5 sums checked\n",
      "package 'iterators' successfully unpacked and MD5 sums checked\n",
      "package 'Rcpp' successfully unpacked and MD5 sums checked\n",
      "package 'clock' successfully unpacked and MD5 sums checked\n",
      "package 'gower' successfully unpacked and MD5 sums checked\n",
      "package 'hardhat' successfully unpacked and MD5 sums checked\n",
      "package 'ipred' successfully unpacked and MD5 sums checked\n",
      "package 'sparsevctrs' successfully unpacked and MD5 sums checked\n",
      "package 'timeDate' successfully unpacked and MD5 sums checked\n",
      "package 'e1071' successfully unpacked and MD5 sums checked\n",
      "package 'foreach' successfully unpacked and MD5 sums checked\n",
      "package 'ModelMetrics' successfully unpacked and MD5 sums checked\n",
      "package 'plyr' successfully unpacked and MD5 sums checked\n",
      "package 'pROC' successfully unpacked and MD5 sums checked\n",
      "package 'recipes' successfully unpacked and MD5 sums checked\n",
      "package 'reshape2' successfully unpacked and MD5 sums checked\n",
      "package 'caret' successfully unpacked and MD5 sums checked\n",
      "\n",
      "The downloaded binary packages are in\n",
      "\tC:\\Users\\tarun\\AppData\\Local\\Temp\\RtmpyMNWEt\\downloaded_packages\n"
     ]
    }
   ],
   "source": [
    "install.packages(\"tidyverse\")\n",
    "install.packages(\"class\")\n",
    "install.packages(\"caret\")"
   ]
  },
  {
   "cell_type": "code",
   "execution_count": 2,
   "metadata": {
    "vscode": {
     "languageId": "r"
    }
   },
   "outputs": [
    {
     "name": "stderr",
     "output_type": "stream",
     "text": [
      "Warning message:\n",
      "\"package 'tidyverse' was built under R version 4.3.3\"\n",
      "Warning message:\n",
      "\"package 'ggplot2' was built under R version 4.3.3\"\n",
      "Warning message:\n",
      "\"package 'tibble' was built under R version 4.3.3\"\n",
      "Warning message:\n",
      "\"package 'tidyr' was built under R version 4.3.3\"\n",
      "Warning message:\n",
      "\"package 'readr' was built under R version 4.3.3\"\n",
      "Warning message:\n",
      "\"package 'purrr' was built under R version 4.3.3\"\n",
      "Warning message:\n",
      "\"package 'dplyr' was built under R version 4.3.3\"\n",
      "Warning message:\n",
      "\"package 'stringr' was built under R version 4.3.3\"\n",
      "Warning message:\n",
      "\"package 'forcats' was built under R version 4.3.3\"\n",
      "Warning message:\n",
      "\"package 'lubridate' was built under R version 4.3.3\"\n",
      "── \u001b[1mAttaching core tidyverse packages\u001b[22m ──────────────────────────────────────────────────────────────── tidyverse 2.0.0 ──\n",
      "\u001b[32m✔\u001b[39m \u001b[34mdplyr    \u001b[39m 1.1.4     \u001b[32m✔\u001b[39m \u001b[34mreadr    \u001b[39m 2.1.5\n",
      "\u001b[32m✔\u001b[39m \u001b[34mforcats  \u001b[39m 1.0.0     \u001b[32m✔\u001b[39m \u001b[34mstringr  \u001b[39m 1.5.1\n",
      "\u001b[32m✔\u001b[39m \u001b[34mggplot2  \u001b[39m 3.5.1     \u001b[32m✔\u001b[39m \u001b[34mtibble   \u001b[39m 3.2.1\n",
      "\u001b[32m✔\u001b[39m \u001b[34mlubridate\u001b[39m 1.9.4     \u001b[32m✔\u001b[39m \u001b[34mtidyr    \u001b[39m 1.3.1\n",
      "\u001b[32m✔\u001b[39m \u001b[34mpurrr    \u001b[39m 1.0.2     \n",
      "── \u001b[1mConflicts\u001b[22m ────────────────────────────────────────────────────────────────────────────────── tidyverse_conflicts() ──\n",
      "\u001b[31m✖\u001b[39m \u001b[34mdplyr\u001b[39m::\u001b[32mfilter()\u001b[39m masks \u001b[34mstats\u001b[39m::filter()\n",
      "\u001b[31m✖\u001b[39m \u001b[34mdplyr\u001b[39m::\u001b[32mlag()\u001b[39m    masks \u001b[34mstats\u001b[39m::lag()\n",
      "\u001b[36mℹ\u001b[39m Use the conflicted package (\u001b[3m\u001b[34m<http://conflicted.r-lib.org/>\u001b[39m\u001b[23m) to force all conflicts to become errors\n",
      "Warning message:\n",
      "\"package 'class' was built under R version 4.3.3\"\n",
      "Warning message:\n",
      "\"package 'caret' was built under R version 4.3.3\"\n",
      "Loading required package: lattice\n",
      "\n",
      "\n",
      "Attaching package: 'caret'\n",
      "\n",
      "\n",
      "The following object is masked from 'package:purrr':\n",
      "\n",
      "    lift\n",
      "\n",
      "\n"
     ]
    }
   ],
   "source": [
    "# First, we will load the required libraries necessary to perform data wrangling, visualization, and analysis.\n",
    "library(tidyverse) # Contains dplyr, ggplot2, and other libraries to perform data cleaning and visualization.\n",
    "library(class) # For the kNN Classifier.\n",
    "library(caret) # For train-test-split and cross-validation."
   ]
  },
  {
   "cell_type": "code",
   "execution_count": 3,
   "metadata": {
    "vscode": {
     "languageId": "r"
    }
   },
   "outputs": [
    {
     "data": {
      "text/html": [
       "<table class=\"dataframe\">\n",
       "<caption>A data.frame: 6 × 7</caption>\n",
       "<thead>\n",
       "\t<tr><th></th><th scope=col>V1</th><th scope=col>V2</th><th scope=col>V3</th><th scope=col>V4</th><th scope=col>V5</th><th scope=col>V6</th><th scope=col>V7</th></tr>\n",
       "\t<tr><th></th><th scope=col>&lt;fct&gt;</th><th scope=col>&lt;fct&gt;</th><th scope=col>&lt;fct&gt;</th><th scope=col>&lt;fct&gt;</th><th scope=col>&lt;fct&gt;</th><th scope=col>&lt;fct&gt;</th><th scope=col>&lt;fct&gt;</th></tr>\n",
       "</thead>\n",
       "<tbody>\n",
       "\t<tr><th scope=row>1</th><td>vhigh</td><td>vhigh</td><td>2</td><td>2</td><td>small</td><td>low </td><td>unacc</td></tr>\n",
       "\t<tr><th scope=row>2</th><td>vhigh</td><td>vhigh</td><td>2</td><td>2</td><td>small</td><td>med </td><td>unacc</td></tr>\n",
       "\t<tr><th scope=row>3</th><td>vhigh</td><td>vhigh</td><td>2</td><td>2</td><td>small</td><td>high</td><td>unacc</td></tr>\n",
       "\t<tr><th scope=row>4</th><td>vhigh</td><td>vhigh</td><td>2</td><td>2</td><td>med  </td><td>low </td><td>unacc</td></tr>\n",
       "\t<tr><th scope=row>5</th><td>vhigh</td><td>vhigh</td><td>2</td><td>2</td><td>med  </td><td>med </td><td>unacc</td></tr>\n",
       "\t<tr><th scope=row>6</th><td>vhigh</td><td>vhigh</td><td>2</td><td>2</td><td>med  </td><td>high</td><td>unacc</td></tr>\n",
       "</tbody>\n",
       "</table>\n"
      ],
      "text/latex": [
       "A data.frame: 6 × 7\n",
       "\\begin{tabular}{r|lllllll}\n",
       "  & V1 & V2 & V3 & V4 & V5 & V6 & V7\\\\\n",
       "  & <fct> & <fct> & <fct> & <fct> & <fct> & <fct> & <fct>\\\\\n",
       "\\hline\n",
       "\t1 & vhigh & vhigh & 2 & 2 & small & low  & unacc\\\\\n",
       "\t2 & vhigh & vhigh & 2 & 2 & small & med  & unacc\\\\\n",
       "\t3 & vhigh & vhigh & 2 & 2 & small & high & unacc\\\\\n",
       "\t4 & vhigh & vhigh & 2 & 2 & med   & low  & unacc\\\\\n",
       "\t5 & vhigh & vhigh & 2 & 2 & med   & med  & unacc\\\\\n",
       "\t6 & vhigh & vhigh & 2 & 2 & med   & high & unacc\\\\\n",
       "\\end{tabular}\n"
      ],
      "text/markdown": [
       "\n",
       "A data.frame: 6 × 7\n",
       "\n",
       "| <!--/--> | V1 &lt;fct&gt; | V2 &lt;fct&gt; | V3 &lt;fct&gt; | V4 &lt;fct&gt; | V5 &lt;fct&gt; | V6 &lt;fct&gt; | V7 &lt;fct&gt; |\n",
       "|---|---|---|---|---|---|---|---|\n",
       "| 1 | vhigh | vhigh | 2 | 2 | small | low  | unacc |\n",
       "| 2 | vhigh | vhigh | 2 | 2 | small | med  | unacc |\n",
       "| 3 | vhigh | vhigh | 2 | 2 | small | high | unacc |\n",
       "| 4 | vhigh | vhigh | 2 | 2 | med   | low  | unacc |\n",
       "| 5 | vhigh | vhigh | 2 | 2 | med   | med  | unacc |\n",
       "| 6 | vhigh | vhigh | 2 | 2 | med   | high | unacc |\n",
       "\n"
      ],
      "text/plain": [
       "  V1    V2    V3 V4 V5    V6   V7   \n",
       "1 vhigh vhigh 2  2  small low  unacc\n",
       "2 vhigh vhigh 2  2  small med  unacc\n",
       "3 vhigh vhigh 2  2  small high unacc\n",
       "4 vhigh vhigh 2  2  med   low  unacc\n",
       "5 vhigh vhigh 2  2  med   med  unacc\n",
       "6 vhigh vhigh 2  2  med   high unacc"
      ]
     },
     "metadata": {},
     "output_type": "display_data"
    }
   ],
   "source": [
    "# Loading the dataset from the web\n",
    "url <- \"https://archive.ics.uci.edu/ml/machine-learning-databases/car/car.data\"\n",
    "car_data <- read.csv(url, header = FALSE, stringsAsFactors = TRUE) # since all input variables are categorical, we set the data type to a factor.\n",
    "\n",
    "# Display first few rows\n",
    "head(car_data)"
   ]
  },
  {
   "cell_type": "markdown",
   "metadata": {},
   "source": [
    "Although the dataset comes with predefined columns, it does not include column names when we read in the CSV file. We manually assign meaningful column names based on the UCI dataset documentation."
   ]
  },
  {
   "cell_type": "code",
   "execution_count": 4,
   "metadata": {
    "vscode": {
     "languageId": "r"
    }
   },
   "outputs": [
    {
     "data": {
      "text/html": [
       "<table class=\"dataframe\">\n",
       "<caption>A data.frame: 6 × 7</caption>\n",
       "<thead>\n",
       "\t<tr><th></th><th scope=col>buying</th><th scope=col>maint</th><th scope=col>doors</th><th scope=col>persons</th><th scope=col>lug_boot</th><th scope=col>safety</th><th scope=col>class</th></tr>\n",
       "\t<tr><th></th><th scope=col>&lt;fct&gt;</th><th scope=col>&lt;fct&gt;</th><th scope=col>&lt;fct&gt;</th><th scope=col>&lt;fct&gt;</th><th scope=col>&lt;fct&gt;</th><th scope=col>&lt;fct&gt;</th><th scope=col>&lt;fct&gt;</th></tr>\n",
       "</thead>\n",
       "<tbody>\n",
       "\t<tr><th scope=row>1</th><td>vhigh</td><td>vhigh</td><td>2</td><td>2</td><td>small</td><td>low </td><td>unacc</td></tr>\n",
       "\t<tr><th scope=row>2</th><td>vhigh</td><td>vhigh</td><td>2</td><td>2</td><td>small</td><td>med </td><td>unacc</td></tr>\n",
       "\t<tr><th scope=row>3</th><td>vhigh</td><td>vhigh</td><td>2</td><td>2</td><td>small</td><td>high</td><td>unacc</td></tr>\n",
       "\t<tr><th scope=row>4</th><td>vhigh</td><td>vhigh</td><td>2</td><td>2</td><td>med  </td><td>low </td><td>unacc</td></tr>\n",
       "\t<tr><th scope=row>5</th><td>vhigh</td><td>vhigh</td><td>2</td><td>2</td><td>med  </td><td>med </td><td>unacc</td></tr>\n",
       "\t<tr><th scope=row>6</th><td>vhigh</td><td>vhigh</td><td>2</td><td>2</td><td>med  </td><td>high</td><td>unacc</td></tr>\n",
       "</tbody>\n",
       "</table>\n"
      ],
      "text/latex": [
       "A data.frame: 6 × 7\n",
       "\\begin{tabular}{r|lllllll}\n",
       "  & buying & maint & doors & persons & lug\\_boot & safety & class\\\\\n",
       "  & <fct> & <fct> & <fct> & <fct> & <fct> & <fct> & <fct>\\\\\n",
       "\\hline\n",
       "\t1 & vhigh & vhigh & 2 & 2 & small & low  & unacc\\\\\n",
       "\t2 & vhigh & vhigh & 2 & 2 & small & med  & unacc\\\\\n",
       "\t3 & vhigh & vhigh & 2 & 2 & small & high & unacc\\\\\n",
       "\t4 & vhigh & vhigh & 2 & 2 & med   & low  & unacc\\\\\n",
       "\t5 & vhigh & vhigh & 2 & 2 & med   & med  & unacc\\\\\n",
       "\t6 & vhigh & vhigh & 2 & 2 & med   & high & unacc\\\\\n",
       "\\end{tabular}\n"
      ],
      "text/markdown": [
       "\n",
       "A data.frame: 6 × 7\n",
       "\n",
       "| <!--/--> | buying &lt;fct&gt; | maint &lt;fct&gt; | doors &lt;fct&gt; | persons &lt;fct&gt; | lug_boot &lt;fct&gt; | safety &lt;fct&gt; | class &lt;fct&gt; |\n",
       "|---|---|---|---|---|---|---|---|\n",
       "| 1 | vhigh | vhigh | 2 | 2 | small | low  | unacc |\n",
       "| 2 | vhigh | vhigh | 2 | 2 | small | med  | unacc |\n",
       "| 3 | vhigh | vhigh | 2 | 2 | small | high | unacc |\n",
       "| 4 | vhigh | vhigh | 2 | 2 | med   | low  | unacc |\n",
       "| 5 | vhigh | vhigh | 2 | 2 | med   | med  | unacc |\n",
       "| 6 | vhigh | vhigh | 2 | 2 | med   | high | unacc |\n",
       "\n"
      ],
      "text/plain": [
       "  buying maint doors persons lug_boot safety class\n",
       "1 vhigh  vhigh 2     2       small    low    unacc\n",
       "2 vhigh  vhigh 2     2       small    med    unacc\n",
       "3 vhigh  vhigh 2     2       small    high   unacc\n",
       "4 vhigh  vhigh 2     2       med      low    unacc\n",
       "5 vhigh  vhigh 2     2       med      med    unacc\n",
       "6 vhigh  vhigh 2     2       med      high   unacc"
      ]
     },
     "metadata": {},
     "output_type": "display_data"
    }
   ],
   "source": [
    "# Assigning the column names\n",
    "colnames(car_data) <- c(\"buying\", \"maint\", \"doors\", \"persons\", \"lug_boot\", \"safety\", \"class\")\n",
    "head(car_data)"
   ]
  },
  {
   "cell_type": "markdown",
   "metadata": {},
   "source": [
    "#### **Data Wrangling and Cleaning**"
   ]
  },
  {
   "cell_type": "code",
   "execution_count": 5,
   "metadata": {
    "vscode": {
     "languageId": "r"
    }
   },
   "outputs": [
    {
     "data": {
      "text/html": [
       "0"
      ],
      "text/latex": [
       "0"
      ],
      "text/markdown": [
       "0"
      ],
      "text/plain": [
       "[1] 0"
      ]
     },
     "metadata": {},
     "output_type": "display_data"
    }
   ],
   "source": [
    "# Checking for missing values:\n",
    "sum(is.na(car_data))"
   ]
  },
  {
   "cell_type": "markdown",
   "metadata": {},
   "source": [
    "Amazing! No missing values to drop or account for."
   ]
  },
  {
   "cell_type": "code",
   "execution_count": 6,
   "metadata": {
    "vscode": {
     "languageId": "r"
    }
   },
   "outputs": [
    {
     "data": {
      "text/html": [
       "1728"
      ],
      "text/latex": [
       "1728"
      ],
      "text/markdown": [
       "1728"
      ],
      "text/plain": [
       "[1] 1728"
      ]
     },
     "metadata": {},
     "output_type": "display_data"
    }
   ],
   "source": [
    "# Check for duplicate values:\n",
    "# Remove duplicate rows (if any)\n",
    "car_data <- car_data %>% distinct()\n",
    "nrow(car_data)"
   ]
  },
  {
   "cell_type": "markdown",
   "metadata": {},
   "source": [
    "We have the same number of rows as before - there were no duplicate rows!"
   ]
  },
  {
   "cell_type": "markdown",
   "metadata": {},
   "source": [
    "#### Data Types\n",
    "\n",
    "Since k-Nearest Neighbors (kNN) is a distance-based algorithm, it requires numerical input for feature comparisons. However, our dataset currently consists of categorical variables (all factors in R)."
   ]
  },
  {
   "cell_type": "code",
   "execution_count": 7,
   "metadata": {
    "vscode": {
     "languageId": "r"
    }
   },
   "outputs": [
    {
     "data": {
      "text/html": [
       "<table class=\"dataframe\">\n",
       "<caption>A data.frame: 6 × 7</caption>\n",
       "<thead>\n",
       "\t<tr><th></th><th scope=col>buying</th><th scope=col>maint</th><th scope=col>doors</th><th scope=col>persons</th><th scope=col>lug_boot</th><th scope=col>safety</th><th scope=col>class</th></tr>\n",
       "\t<tr><th></th><th scope=col>&lt;dbl&gt;</th><th scope=col>&lt;dbl&gt;</th><th scope=col>&lt;dbl&gt;</th><th scope=col>&lt;dbl&gt;</th><th scope=col>&lt;dbl&gt;</th><th scope=col>&lt;dbl&gt;</th><th scope=col>&lt;dbl&gt;</th></tr>\n",
       "</thead>\n",
       "<tbody>\n",
       "\t<tr><th scope=row>1</th><td>4</td><td>4</td><td>2</td><td>2</td><td>1</td><td>1</td><td>1</td></tr>\n",
       "\t<tr><th scope=row>2</th><td>4</td><td>4</td><td>2</td><td>2</td><td>1</td><td>2</td><td>1</td></tr>\n",
       "\t<tr><th scope=row>3</th><td>4</td><td>4</td><td>2</td><td>2</td><td>1</td><td>3</td><td>1</td></tr>\n",
       "\t<tr><th scope=row>4</th><td>4</td><td>4</td><td>2</td><td>2</td><td>2</td><td>1</td><td>1</td></tr>\n",
       "\t<tr><th scope=row>5</th><td>4</td><td>4</td><td>2</td><td>2</td><td>2</td><td>2</td><td>1</td></tr>\n",
       "\t<tr><th scope=row>6</th><td>4</td><td>4</td><td>2</td><td>2</td><td>2</td><td>3</td><td>1</td></tr>\n",
       "</tbody>\n",
       "</table>\n"
      ],
      "text/latex": [
       "A data.frame: 6 × 7\n",
       "\\begin{tabular}{r|lllllll}\n",
       "  & buying & maint & doors & persons & lug\\_boot & safety & class\\\\\n",
       "  & <dbl> & <dbl> & <dbl> & <dbl> & <dbl> & <dbl> & <dbl>\\\\\n",
       "\\hline\n",
       "\t1 & 4 & 4 & 2 & 2 & 1 & 1 & 1\\\\\n",
       "\t2 & 4 & 4 & 2 & 2 & 1 & 2 & 1\\\\\n",
       "\t3 & 4 & 4 & 2 & 2 & 1 & 3 & 1\\\\\n",
       "\t4 & 4 & 4 & 2 & 2 & 2 & 1 & 1\\\\\n",
       "\t5 & 4 & 4 & 2 & 2 & 2 & 2 & 1\\\\\n",
       "\t6 & 4 & 4 & 2 & 2 & 2 & 3 & 1\\\\\n",
       "\\end{tabular}\n"
      ],
      "text/markdown": [
       "\n",
       "A data.frame: 6 × 7\n",
       "\n",
       "| <!--/--> | buying &lt;dbl&gt; | maint &lt;dbl&gt; | doors &lt;dbl&gt; | persons &lt;dbl&gt; | lug_boot &lt;dbl&gt; | safety &lt;dbl&gt; | class &lt;dbl&gt; |\n",
       "|---|---|---|---|---|---|---|---|\n",
       "| 1 | 4 | 4 | 2 | 2 | 1 | 1 | 1 |\n",
       "| 2 | 4 | 4 | 2 | 2 | 1 | 2 | 1 |\n",
       "| 3 | 4 | 4 | 2 | 2 | 1 | 3 | 1 |\n",
       "| 4 | 4 | 4 | 2 | 2 | 2 | 1 | 1 |\n",
       "| 5 | 4 | 4 | 2 | 2 | 2 | 2 | 1 |\n",
       "| 6 | 4 | 4 | 2 | 2 | 2 | 3 | 1 |\n",
       "\n"
      ],
      "text/plain": [
       "  buying maint doors persons lug_boot safety class\n",
       "1 4      4     2     2       1        1      1    \n",
       "2 4      4     2     2       1        2      1    \n",
       "3 4      4     2     2       1        3      1    \n",
       "4 4      4     2     2       2        1      1    \n",
       "5 4      4     2     2       2        2      1    \n",
       "6 4      4     2     2       2        3      1    "
      ]
     },
     "metadata": {},
     "output_type": "display_data"
    }
   ],
   "source": [
    "# Every variable in this dataset is an ordinal variable - it falls under the categorical variables that have a natural relationship or hierarchy to them.\n",
    "# We can use ordinal encoding to transform these factor variables into double so kNN can be used on them. Scaling is NOT needed here.\n",
    "\n",
    "# Define encoding function for all categorical features (\n",
    "encode_levels <- function(x) {\n",
    "  case_when(\n",
    "    x == \"vhigh\"  ~ 4,   \n",
    "    x == \"high\"   ~ 3,\n",
    "    x == \"med\"    ~ 2, \n",
    "    x == \"low\"    ~ 1,\n",
    "    x == \"big\"    ~ 3,\n",
    "    x == \"small\"  ~ 1,\n",
    "    x == \"more\"   ~ 5,   # 'more' in persons column treated as 5\n",
    "    x == \"5more\"  ~ 5,   # '5more' in doors column treated as 5\n",
    "    x == \"2\"      ~ 2,\n",
    "    x == \"3\"      ~ 3,\n",
    "    x == \"4\"      ~ 4,\n",
    "    x == \"unacc\"  ~ 1,\n",
    "    x == \"acc\"    ~ 2,\n",
    "    x == \"good\"   ~ 3,\n",
    "    x == \"vgood\"  ~ 4,\n",
    "    TRUE          ~ as.numeric(x) # Default conversion for numbers\n",
    "  )\n",
    "}\n",
    "\n",
    "# Encoding safety separately to avoid duplicate \"low\", \"med\", \"high\"\n",
    "encode_safety <- function(x) {\n",
    "  case_when(\n",
    "    x == \"low\"  ~ 1,\n",
    "    x == \"med\"  ~ 2,\n",
    "    x == \"high\" ~ 3,\n",
    "    TRUE        ~ as.numeric(x)\n",
    "  )\n",
    "}\n",
    "\n",
    "# Apply encoding to all columns, including safety separately\n",
    "car_data_encoded <- car_data %>%\n",
    "  mutate(across(-safety, encode_levels)) %>%\n",
    "  mutate(safety = encode_safety(safety))  # Encode safety\n",
    "\n",
    "# Display first few rows\n",
    "head(car_data_encoded)"
   ]
  },
  {
   "cell_type": "markdown",
   "metadata": {},
   "source": [
    "**Since we converted the text into numerical variables, we have attached the description of each numerical value per feature below for reference:**\n",
    "\n",
    "**`buying` and `maint`**\n",
    "- low: 1\n",
    "- med: 2\n",
    "- high: 3\n",
    "- vhigh: 4\n",
    "\n",
    "**`doors` and `persons`**\n",
    "- The values are technically numerical, but they only fall into 3 or 4 categories and are not continuous.\n",
    "\n",
    "**`lug_boot` and `safety`**\n",
    "- small/low: 1\n",
    "- med: 2\n",
    "- big/high: 3\n",
    "\n",
    "**`class`**\n",
    "- unacc (unacceptable): 1\n",
    "- acc (acceptable): 2\n",
    "- good: 3\n",
    "- vgood: 4"
   ]
  },
  {
   "cell_type": "markdown",
   "metadata": {},
   "source": [
    "**The data has been cleaned and is ready for analysis!**"
   ]
  },
  {
   "cell_type": "markdown",
   "metadata": {},
   "source": [
    "#### **Summary of Data**"
   ]
  },
  {
   "cell_type": "code",
   "execution_count": 8,
   "metadata": {
    "vscode": {
     "languageId": "r"
    }
   },
   "outputs": [
    {
     "data": {
      "text/plain": [
       "     buying         maint          doors         persons         lug_boot\n",
       " Min.   :1.00   Min.   :1.00   Min.   :2.00   Min.   :2.000   Min.   :1  \n",
       " 1st Qu.:1.75   1st Qu.:1.75   1st Qu.:2.75   1st Qu.:2.000   1st Qu.:1  \n",
       " Median :2.50   Median :2.50   Median :3.50   Median :4.000   Median :2  \n",
       " Mean   :2.50   Mean   :2.50   Mean   :3.50   Mean   :3.667   Mean   :2  \n",
       " 3rd Qu.:3.25   3rd Qu.:3.25   3rd Qu.:4.25   3rd Qu.:5.000   3rd Qu.:3  \n",
       " Max.   :4.00   Max.   :4.00   Max.   :5.00   Max.   :5.000   Max.   :3  \n",
       "     safety      class      \n",
       " Min.   :1   Min.   :1.000  \n",
       " 1st Qu.:1   1st Qu.:1.000  \n",
       " Median :2   Median :1.000  \n",
       " Mean   :2   Mean   :1.415  \n",
       " 3rd Qu.:3   3rd Qu.:2.000  \n",
       " Max.   :3   Max.   :4.000  "
      ]
     },
     "metadata": {},
     "output_type": "display_data"
    }
   ],
   "source": [
    "summary(car_data_encoded)"
   ]
  },
  {
   "cell_type": "code",
   "execution_count": 9,
   "metadata": {
    "vscode": {
     "languageId": "r"
    }
   },
   "outputs": [
    {
     "data": {
      "text/html": [
       "<table class=\"dataframe\">\n",
       "<caption>A tibble: 25 × 3</caption>\n",
       "<thead>\n",
       "\t<tr><th scope=col>Variable</th><th scope=col>Value</th><th scope=col>Count</th></tr>\n",
       "\t<tr><th scope=col>&lt;chr&gt;</th><th scope=col>&lt;dbl&gt;</th><th scope=col>&lt;int&gt;</th></tr>\n",
       "</thead>\n",
       "<tbody>\n",
       "\t<tr><td>buying  </td><td>1</td><td> 432</td></tr>\n",
       "\t<tr><td>buying  </td><td>2</td><td> 432</td></tr>\n",
       "\t<tr><td>buying  </td><td>3</td><td> 432</td></tr>\n",
       "\t<tr><td>buying  </td><td>4</td><td> 432</td></tr>\n",
       "\t<tr><td>class   </td><td>1</td><td>1210</td></tr>\n",
       "\t<tr><td>class   </td><td>2</td><td> 384</td></tr>\n",
       "\t<tr><td>class   </td><td>3</td><td>  69</td></tr>\n",
       "\t<tr><td>class   </td><td>4</td><td>  65</td></tr>\n",
       "\t<tr><td>doors   </td><td>2</td><td> 432</td></tr>\n",
       "\t<tr><td>doors   </td><td>3</td><td> 432</td></tr>\n",
       "\t<tr><td>doors   </td><td>4</td><td> 432</td></tr>\n",
       "\t<tr><td>doors   </td><td>5</td><td> 432</td></tr>\n",
       "\t<tr><td>lug_boot</td><td>1</td><td> 576</td></tr>\n",
       "\t<tr><td>lug_boot</td><td>2</td><td> 576</td></tr>\n",
       "\t<tr><td>lug_boot</td><td>3</td><td> 576</td></tr>\n",
       "\t<tr><td>maint   </td><td>1</td><td> 432</td></tr>\n",
       "\t<tr><td>maint   </td><td>2</td><td> 432</td></tr>\n",
       "\t<tr><td>maint   </td><td>3</td><td> 432</td></tr>\n",
       "\t<tr><td>maint   </td><td>4</td><td> 432</td></tr>\n",
       "\t<tr><td>persons </td><td>2</td><td> 576</td></tr>\n",
       "\t<tr><td>persons </td><td>4</td><td> 576</td></tr>\n",
       "\t<tr><td>persons </td><td>5</td><td> 576</td></tr>\n",
       "\t<tr><td>safety  </td><td>1</td><td> 576</td></tr>\n",
       "\t<tr><td>safety  </td><td>2</td><td> 576</td></tr>\n",
       "\t<tr><td>safety  </td><td>3</td><td> 576</td></tr>\n",
       "</tbody>\n",
       "</table>\n"
      ],
      "text/latex": [
       "A tibble: 25 × 3\n",
       "\\begin{tabular}{lll}\n",
       " Variable & Value & Count\\\\\n",
       " <chr> & <dbl> & <int>\\\\\n",
       "\\hline\n",
       "\t buying   & 1 &  432\\\\\n",
       "\t buying   & 2 &  432\\\\\n",
       "\t buying   & 3 &  432\\\\\n",
       "\t buying   & 4 &  432\\\\\n",
       "\t class    & 1 & 1210\\\\\n",
       "\t class    & 2 &  384\\\\\n",
       "\t class    & 3 &   69\\\\\n",
       "\t class    & 4 &   65\\\\\n",
       "\t doors    & 2 &  432\\\\\n",
       "\t doors    & 3 &  432\\\\\n",
       "\t doors    & 4 &  432\\\\\n",
       "\t doors    & 5 &  432\\\\\n",
       "\t lug\\_boot & 1 &  576\\\\\n",
       "\t lug\\_boot & 2 &  576\\\\\n",
       "\t lug\\_boot & 3 &  576\\\\\n",
       "\t maint    & 1 &  432\\\\\n",
       "\t maint    & 2 &  432\\\\\n",
       "\t maint    & 3 &  432\\\\\n",
       "\t maint    & 4 &  432\\\\\n",
       "\t persons  & 2 &  576\\\\\n",
       "\t persons  & 4 &  576\\\\\n",
       "\t persons  & 5 &  576\\\\\n",
       "\t safety   & 1 &  576\\\\\n",
       "\t safety   & 2 &  576\\\\\n",
       "\t safety   & 3 &  576\\\\\n",
       "\\end{tabular}\n"
      ],
      "text/markdown": [
       "\n",
       "A tibble: 25 × 3\n",
       "\n",
       "| Variable &lt;chr&gt; | Value &lt;dbl&gt; | Count &lt;int&gt; |\n",
       "|---|---|---|\n",
       "| buying   | 1 |  432 |\n",
       "| buying   | 2 |  432 |\n",
       "| buying   | 3 |  432 |\n",
       "| buying   | 4 |  432 |\n",
       "| class    | 1 | 1210 |\n",
       "| class    | 2 |  384 |\n",
       "| class    | 3 |   69 |\n",
       "| class    | 4 |   65 |\n",
       "| doors    | 2 |  432 |\n",
       "| doors    | 3 |  432 |\n",
       "| doors    | 4 |  432 |\n",
       "| doors    | 5 |  432 |\n",
       "| lug_boot | 1 |  576 |\n",
       "| lug_boot | 2 |  576 |\n",
       "| lug_boot | 3 |  576 |\n",
       "| maint    | 1 |  432 |\n",
       "| maint    | 2 |  432 |\n",
       "| maint    | 3 |  432 |\n",
       "| maint    | 4 |  432 |\n",
       "| persons  | 2 |  576 |\n",
       "| persons  | 4 |  576 |\n",
       "| persons  | 5 |  576 |\n",
       "| safety   | 1 |  576 |\n",
       "| safety   | 2 |  576 |\n",
       "| safety   | 3 |  576 |\n",
       "\n"
      ],
      "text/plain": [
       "   Variable Value Count\n",
       "1  buying   1      432 \n",
       "2  buying   2      432 \n",
       "3  buying   3      432 \n",
       "4  buying   4      432 \n",
       "5  class    1     1210 \n",
       "6  class    2      384 \n",
       "7  class    3       69 \n",
       "8  class    4       65 \n",
       "9  doors    2      432 \n",
       "10 doors    3      432 \n",
       "11 doors    4      432 \n",
       "12 doors    5      432 \n",
       "13 lug_boot 1      576 \n",
       "14 lug_boot 2      576 \n",
       "15 lug_boot 3      576 \n",
       "16 maint    1      432 \n",
       "17 maint    2      432 \n",
       "18 maint    3      432 \n",
       "19 maint    4      432 \n",
       "20 persons  2      576 \n",
       "21 persons  4      576 \n",
       "22 persons  5      576 \n",
       "23 safety   1      576 \n",
       "24 safety   2      576 \n",
       "25 safety   3      576 "
      ]
     },
     "metadata": {},
     "output_type": "display_data"
    }
   ],
   "source": [
    "# Count occurrences for each unique value in each column\n",
    "car_data_encoded %>%\n",
    "  pivot_longer(cols = everything(), names_to = \"Variable\", values_to = \"Value\") %>%\n",
    "  group_by(Variable, Value) %>%\n",
    "  summarise(Count = n(), .groups = \"drop\") %>%\n",
    "  arrange(Variable, desc(Count))"
   ]
  },
  {
   "cell_type": "markdown",
   "metadata": {},
   "source": [
    "This frequency table provides a clearer picture of the dataset's distribution across categorical variables. The `buying`, `maint`, and `doors` features all have an even distribution, with each level appearing 432 times, suggesting a balanced dataset for these features. The `safety`, `lug_boot` and `persons` features are also evenly distributed across its three levels, with 576 occurrences each, ensuring no significant class imbalance in this variable. However, the `class` is highly imbalanced, with \"unacc\" (encoded as 1) making up the majority (1,210 occurrences), while \"vgood\" (encoded as 4) is rare (only 65 occurrences). Since we are not using the `class` variable in our analysis, this is not much of a concern.\n",
    "\n",
    "**Our x and y variables all have sufficient data points for analysis!**"
   ]
  },
  {
   "cell_type": "markdown",
   "metadata": {},
   "source": [
    "#### **EDA Analysis - Visualization**"
   ]
  },
  {
   "cell_type": "code",
   "execution_count": 18,
   "metadata": {
    "vscode": {
     "languageId": "r"
    }
   },
   "outputs": [
    {
     "data": {
      "image/png": "[encoded data removed]",
      "text/plain": [
       "plot without title"
      ]
     },
     "metadata": {
      "image/png": {
       "height": 360,
       "width": 600
      }
     },
     "output_type": "display_data"
    },
    {
     "data": {
      "image/png": "[encoded data removed]",
      "text/plain": [
       "plot without title"
      ]
     },
     "metadata": {
      "image/png": {
       "height": 360,
       "width": 600
      }
     },
     "output_type": "display_data"
    },
    {
     "data": {
      "image/png": "[encoded data removed]",
      "text/plain": [
       "plot without title"
      ]
     },
     "metadata": {
      "image/png": {
       "height": 360,
       "width": 600
      }
     },
     "output_type": "display_data"
    }
   ],
   "source": [
    "# Convert encoded variables back to their categorical labels\n",
    "# Bar plot of safety distribution\n",
    "\n",
    "car_data_labeled <- car_data_encoded %>%\n",
    "  mutate(\n",
    "    buying = factor(buying, levels = c(1, 2, 3, 4), labels = c(\"low\", \"med\", \"high\", \"vhigh\")),\n",
    "    maint = factor(maint, levels = c(1, 2, 3, 4), labels = c(\"low\", \"med\", \"high\", \"vhigh\")),\n",
    "    persons = factor(persons, levels = c(2, 4, 5), labels = c(\"2\", \"4\", \"5+\")), \n",
    "    class = factor(class, levels = c(1, 2, 3, 4), labels = c(\"unacc\", \"acc\", \"good\", \"vgood\")),\n",
    "    safety = as.factor(safety)  # Keep safety as a factor for color coding\n",
    "  )\n",
    "\n",
    "# Define a larger theme for all plots\n",
    "larger_theme <- theme(\n",
    "  plot.title = element_text(size = 18, face = \"bold\"), # Larger title\n",
    "  axis.title = element_text(size = 16),  # Larger axis labels\n",
    "  axis.text = element_text(size = 14),  # Larger axis values\n",
    "  legend.title = element_text(size = 14),  # Larger legend title\n",
    "  legend.text = element_text(size = 12)  # Larger legend values\n",
    ")\n",
    "\n",
    "# Increase figure size, default size is not very readable\n",
    "options(repr.plot.width = 10, repr.plot.height = 6)\n",
    "\n",
    "# Plot 1: Distribution of Buying Price by Safety Level\n",
    "ggplot(car_data_labeled, aes(x = buying, fill = safety)) +\n",
    "  geom_bar(position = \"dodge\") +\n",
    "  labs(title = \"Distribution of Buying Price by Safety Level\",\n",
    "       x = \"Buying Price\", y = \"Count\", fill = \"Safety Level\") +\n",
    "  theme_minimal() + larger_theme\n",
    "\n",
    "# Plot 2: Distribution of Number of Persons by Safety Level\n",
    "ggplot(car_data_labeled, aes(x = persons, fill = safety)) +\n",
    "  geom_bar(position = \"dodge\") +\n",
    "  labs(title = \"Distribution of Number of Persons by Safety Level\",\n",
    "       x = \"Number of Persons\", y = \"Count\", fill = \"Safety Level\") +\n",
    "  theme_minimal() + larger_theme\n",
    "\n",
    "# Plot 3: Distribution of Maintenance Cost by Safety Level\n",
    "ggplot(car_data_labeled, aes(x = maint, fill = safety)) +\n",
    "  geom_bar(position = \"dodge\") +\n",
    "  labs(title = \"Distribution of Maintenance Cost by Safety Level\",\n",
    "       x = \"Maintenance Cost\", y = \"Count\", fill = \"Safety Level\") +\n",
    "  theme_minimal() + larger_theme\n"
   ]
  },
  {
   "cell_type": "markdown",
   "metadata": {},
   "source": [
    "**Figure 1: Histograms of Safety Across 3 Input Variables: Buying Price, Capacity (Number of Persons), and Maintenance Cost**"
   ]
  },
  {
   "cell_type": "markdown",
   "metadata": {},
   "source": [
    "As we saw in the summary table, all the safety levels are evenly distributed across each of the independent variables."
   ]
  },
  {
   "cell_type": "markdown",
   "metadata": {},
   "source": [
    "**Initial Observations**\n",
    "\n",
    "The histograms indicate that the safety levels (1, 2, and 3) are evenly distributed across all three independent variables: buying price, number of persons, and maintenance cost. This suggests that the dataset is well-balanced with respect to safety levels, meaning that safety is not disproportionately concentrated in any particular category of these features. However, we do not observe significant variation is observed in the distribution of safety across these variables.\n",
    "\n",
    "\n",
    "**Proceeding with Analysis**\n",
    "\n",
    "While individual variables may not show a strong distinction in safety levels on their own, the interaction between multiple features could still be meaningful for classification. Just because safety is evenly distributed across each independent variable separately doesn't mean that a combination of factors (e.g., high buying price + low maintenance + more persons) won't reveal patterns that help predict safety levels."
   ]
  },
  {
   "cell_type": "markdown",
   "metadata": {},
   "source": [
    "#### **kNN Classification Analysis**"
   ]
  },
  {
   "cell_type": "code",
   "execution_count": 19,
   "metadata": {
    "vscode": {
     "languageId": "r"
    }
   },
   "outputs": [],
   "source": [
    "set.seed(123)  # We put this to ensure reproducibility in our data, since splitting into training and test splits will be random.\n",
    "\n",
    "# Convert categorical variables to factors\n",
    "car_data_prepared <- car_data_encoded %>%\n",
    "  mutate(safety = as.factor(safety))  # The target variable must be a factor for classification models in R\n",
    "\n",
    "# Split the dataset into training (80%) and testing (20%) sets\n",
    "# This ensures that the model is trained on one portion of the data and tested on unseen data for evaluation\n",
    "train_index <- createDataPartition(car_data_prepared$safety, p = 0.8, list = FALSE)  # Randomly select 80% of data for training\n",
    "train_data <- car_data_prepared[train_index, ]  # Training data\n",
    "test_data <- car_data_prepared[-train_index, ]  # Testing data\n",
    "\n",
    "# Separate features and target variable\n",
    "train_x <- train_data %>% select(-safety)  # Predictor variables\n",
    "train_y <- train_data$safety               # Target variable\n",
    "test_x <- test_data %>% select(-safety)\n",
    "test_y <- test_data$safety"
   ]
  },
  {
   "cell_type": "code",
   "execution_count": 20,
   "metadata": {
    "vscode": {
     "languageId": "r"
    }
   },
   "outputs": [
    {
     "name": "stdout",
     "output_type": "stream",
     "text": [
      "Best k found through cross-validation: 17 \n"
     ]
    }
   ],
   "source": [
    "# Define range of k values to test\n",
    "# We test odd values from 1 to 21 (odd numbers help prevent ties in kNN classification)\n",
    "k_values <- seq(1, 21, 2)  \n",
    "\n",
    "# Create an empty dataframe to store cross-validation results\n",
    "cv_results <- data.frame(k = integer(), accuracy = numeric())  \n",
    "\n",
    "# Perform cross-validation for each k value in the defined range\n",
    "for (k in k_values) {\n",
    "  \n",
    "  # Train kNN model using 5-fold cross-validation\n",
    "  knn_model <- train(\n",
    "    train_x, train_y, method = \"knn\",  # Specify kNN as the classification method\n",
    "    trControl = trainControl(method = \"cv\", number = 5),  # 5-fold cross-validation to evaluate k\n",
    "    tuneGrid = data.frame(k = k)  # Set the current k value in the tuning grid\n",
    "  )\n",
    "  \n",
    "  # Extract the highest accuracy from the model results and store it\n",
    "  cv_results <- rbind(cv_results, data.frame(k = k, accuracy = max(knn_model$results$Accuracy)))\n",
    "}\n",
    "\n",
    "# Find the best k (the one that resulted in the highest accuracy)\n",
    "best_k <- cv_results$k[which.max(cv_results$accuracy)]\n",
    "cat(\"Best k found through cross-validation:\", best_k, \"\\n\")  # Print the best k value"
   ]
  },
  {
   "cell_type": "code",
   "execution_count": 21,
   "metadata": {
    "vscode": {
     "languageId": "r"
    }
   },
   "outputs": [
    {
     "ename": "ERROR",
     "evalue": "Error: object 'predictions' not found\n",
     "output_type": "error",
     "traceback": [
      "Error: object 'predictions' not found\nTraceback:\n"
     ]
    }
   ],
   "source": [
    "# Compute classification accuracy\n",
    "# Accuracy is calculated as the proportion of correctly classified instances out of the total test set\n",
    "accuracy <- sum(predictions == test_y) / length(test_y)  \n",
    "\n",
    "# Print accuracy as a percentage\n",
    "cat(\"kNN Model Accuracy:\", round(accuracy * 100, 2), \"%\\n\")  "
   ]
  },
  {
   "cell_type": "markdown",
   "metadata": {},
   "source": [
    "The 45.22% accuracy suggests that the kNN model performs better than random guessing (which would be ~33.3% for three safety classes) but is still not highly effective."
   ]
  },
  {
   "cell_type": "code",
   "execution_count": null,
   "metadata": {
    "vscode": {
     "languageId": "r"
    }
   },
   "outputs": [],
   "source": [
    "# Train the final kNN model using the best k found from cross-validation\n",
    "# The knn() function computes distances between test and training points\n",
    "final_knn <- knn(train = train_x, test = test_x, cl = train_y, k = best_k)\n",
    "\n",
    "# Evaluate Model Performance\n",
    "# Accuracy is calculated as the proportion of correctly classified test instances\n",
    "accuracy <- sum(final_knn == test_y) / length(test_y)  \n",
    "\n",
    "# Print the final model's accuracy as a percentage with two decimal places\n",
    "cat(\"Final kNN Model Accuracy:\", round(accuracy * 100, 2), \"%\\n\")  "
   ]
  },
  {
   "cell_type": "markdown",
   "metadata": {},
   "source": [
    "The final kNN model achieved 46.96% accuracy, which is slightly better than the initial 45.22%"
   ]
  },
  {
   "cell_type": "markdown",
   "metadata": {},
   "source": [
    "#### **Visualization of Analysis**"
   ]
  },
  {
   "cell_type": "markdown",
   "metadata": {},
   "source": [
    "Since we are using multiple input variables for our kNN classification, it wouldn't be possible to graph it out 2D. We will do a **confusion matrix** as our visualization."
   ]
  },
  {
   "cell_type": "code",
   "execution_count": null,
   "metadata": {
    "vscode": {
     "languageId": "r"
    }
   },
   "outputs": [],
   "source": [
    "# Generate the confusion matrix to evaluate model performance\n",
    "# This compares the predicted labels (final_knn) with the actual test labels (test_y)\n",
    "conf_matrix <- confusionMatrix(final_knn, test_y)\n",
    "\n",
    "# Convert confusion matrix into a tidy format for plotting\n",
    "# The confusionMatrix function stores results in a table format, so we extract and reformat it\n",
    "conf_matrix_df <- as.data.frame(conf_matrix$table)\n",
    "\n",
    "# Rename columns for clarity (matching true and predicted values)\n",
    "colnames(conf_matrix_df) <- c(\"True_Label\", \"Predicted_Label\", \"Count\")\n",
    "\n",
    "# Plot a heatmap to visualize classification performance\n",
    "ggplot(conf_matrix_df, aes(x = Predicted_Label, y = True_Label, fill = Count)) +\n",
    "  geom_tile() +  # Creates a grid-based heatmap\n",
    "  geom_text(aes(label = Count), color = \"white\", size = 6) +  # Add count values to each cell\n",
    "  scale_fill_gradient(low = \"lightblue\", high = \"blue\") +  # Use a color gradient for better visualization\n",
    "  labs(title = \"Confusion Matrix for kNN Classification\",\n",
    "       x = \"Predicted Label\", y = \"True Label\", fill = \"Count\") +  # Customize labels\n",
    "  theme_minimal()  # Apply a clean, minimal theme"
   ]
  },
  {
   "cell_type": "markdown",
   "metadata": {},
   "source": [
    "**Figure 2: Heatmap of Confusion Matrix for Visualization of Analysis**"
   ]
  },
  {
   "cell_type": "markdown",
   "metadata": {},
   "source": [
    "## Discussion\n",
    "\n",
    "### What We Found\n",
    "The analysis started with a car evaluation dataset lacking column names, which were manually assigned as \"buying,\" \"maint,\" \"doors,\" \"persons,\" \"lug_boot,\" \"safety,\" and \"class\" based on UCI documentation. The dataset, comprising 1,728 rows, was clean with no missing values or duplicates. All variables were categorical and ordinal, necessitating ordinal encoding into numerical values for k-Nearest Neighbors (kNN) analysis. Summary statistics revealed balanced distributions across most features (e.g., \"buying,\" \"maint,\" \"doors,\" \"lug_boot,\" \"safety,\" and \"persons\"), with each category appearing 432 or 576 times. However, the \"class\" variable was highly imbalanced, with \"unacc\" dominating (1,210 instances) and \"vgood\" rare (65 instances), though this was irrelevant as \"class\" was not used in the kNN analysis.\n",
    "\n",
    "Exploratory Data Analysis (EDA) using histograms showed that \"safety\" levels (low, medium, high) were evenly distributed across \"buying,\" \"persons,\" and \"maint,\" indicating no single feature strongly distinguished safety levels independently. The kNN model, trained to predict \"safety\" using other features, achieved a final accuracy of 46.96% with an optimal k of 17, surpassing random guessing (33.3% for three classes) but suggesting limited predictive power. A confusion matrix heatmap visualized the model’s performance, highlighting prediction accuracies and errors across safety levels.\n",
    "\n",
    "The dataset’s cleanliness and balanced feature distributions partially aligned with expectations, given its UCI origin, known for structured datasets. The absence of missing values and duplicates was anticipated, simplifying preprocessing. However, the uniform distribution of \"safety\" across individual features was unexpected. Real-world data might show biases—e.g., higher safety with lower buying prices or higher maintenance costs due to safety features—yet this dataset lacked such trends, possibly indicating synthetic balancing for algorithmic testing.\n",
    "\n",
    "The kNN accuracy of 46.96% was lower than ideal but not surprising. The even distribution of safety and lack of strong individual predictors suggested that kNN, reliant on feature proximity, might struggle. The slight accuracy increase from 45.22% to 46.96% with tuning was expected, though the overall modest performance hinted at complex feature interactions or insufficient predictive signals, aligning with the EDA findings.\n",
    "\n",
    "### Potential Impact\n",
    "These results have practical and methodological implications. The preprocessing and encoding workflow offers a replicable approach for handling ordinal categorical data, applicable to fields like healthcare or marketing. The balanced predictors ensure unbiased model training, making this dataset a fair benchmark for algorithmic evaluation.\n",
    "\n",
    "However, the kNN’s 46.96% accuracy limits its utility for real-world safety prediction, such as in automotive design or consumer decisions, where higher reliability is critical. The uniform safety distribution suggests unmeasured variables or interactions influence safety, necessitating richer data or advanced models for practical use. This finding could prompt researchers to refine feature selection or engineering strategies when using distance-based methods, influencing future dataset analyses.\n",
    "\n",
    "### Future Questions\n",
    "The analysis raises several questions for further exploration each aiming to enhance its practical and analytical value:\n",
    "\n",
    "1. **Incorporating Additional Car Attributes**: Could adding car-specific variables—like crash test scores, manufacturing year, or brand reputation—enhance safety predictions? Expanding the dataset with real-world metrics, such as fuel efficiency, engine type (e.g., electric vs. gasoline), or historical recall data, might improve its utility for buyers or manufacturers. For instance, integrating standardized safety ratings (e.g., IIHS or NHTSA scores) could boost model accuracy beyond 46.96%, while manufacturing year might highlight safety evolution, and brand reputation could reflect quality consistency. This could transform the dataset into a robust tool for practical car evaluation.\n",
    "\n",
    "2. **Consumer Preferences and Safety Trade-offs**: How do car features like buying price or maintenance cost influence consumer perceptions of safety versus affordability? Survey data or X post analysis could reveal if buyers prioritize low-cost options over safety, guiding how manufacturers balance these factors in car design.\n",
    "\n",
    "3. **Environmental Impact on Car Safety**: Could environmental factors, such as typical driving conditions (urban vs. rural) or climate (e.g., snowy regions), affect safety ratings in this dataset? Linking car attributes to usage contexts might show if features like luggage boot size or door count adapt to safety needs in diverse settings.\n",
    "\n",
    "4. **Temporal Dynamics of Car Evaluation**: How would safety predictions change if the dataset tracked cars over time, such as pre- and post-safety regulation changes? A longitudinal approach could assess if older cars with fewer doors or lower safety ratings become outliers as standards evolve.\n",
    "\n",
    "5. **Cross-Cultural Car Evaluation**: Do safety priorities differ across regions (e.g., North America vs. Europe vs. Asia), and how might this dataset adapt? Incorporating regional safety standards or car preferences (e.g., compact cars in Europe) could test its global applicability, revealing cultural influences on car evaluation.\n",
    "\n",
    "6. **Feature Interactions in Car Evaluation**: Could combining car features like buying price and maintenance cost reveal stronger predictors of safety ratings? Exploring interaction terms (e.g., high buying price with low maintenance) might uncover patterns that influence car safety assessments more effectively, such as whether cost trade-offs correlate with safety compromises.\n",
    "\n",
    "7. **Alternative Models for Car Safety Prediction**: Would advanced models like random forests or neural networks outperform kNN by identifying critical car features—like luggage boot size or passenger capacity—for safety prediction? These could reveal non-linear relationships, such as how larger boot sizes might indicate family-oriented designs with higher safety standards.\n",
    "\n",
    "In conclusion, this study establishes a foundation for analyzing categorical datasets with kNN, while highlighting limitations and inspiring future research into feature engineering, model selection, and practical applicability in car evaluation contexts."
   ]
  },
  {
   "cell_type": "markdown",
   "metadata": {},
   "source": [
    "### **References**\n",
    "\n",
    "- Andersson, H. (2008). Willingness to pay for car safety: evidence from Sweden.    Environmental and Resource Economics, 41, 579-594.\n",
    "\n",
    "- Nygren, Å. (1983). Injuries to car occupants—Some aspects of the interior safety of cars: A study of a five-year material from an insurance company. Acta Oto-Laryngologica, 95(sup395), 1-135.\n",
    "\n",
    "- Richter, M., Pape, H. C., Otte, D., & Krettek, C. (2005). Improvements in passive car safety led to decreased injury severity–a comparison between the 1970s and 1990s. Injury, 36(4), 484-488.\n",
    "\n",
    "- Wood, D. P. (1997). Safety and the car size effect: A fundamental explanation. Accident Analysis & Prevention, 29(2), 139-151.\n",
    "\n",
    "- Wikipedia Contributors. (2019, March 21). Motor vehicle fatality rate in U.S. by year. Wikipedia; Wikimedia Foundation. https://en.wikipedia.org/wiki/Motor_vehicle_fatality_rate_in_U.S._by_year"
   ]
  },
  {
   "cell_type": "code",
   "execution_count": null,
   "metadata": {
    "vscode": {
     "languageId": "r"
    }
   },
   "outputs": [],
   "source": []
  }
 ],
 "metadata": {
  "kernelspec": {
   "display_name": "R",
   "language": "R",
   "name": "ir"
  },
  "language_info": {
   "codemirror_mode": "r",
   "file_extension": ".r",
   "mimetype": "text/x-r-source",
   "name": "R",
   "pygments_lexer": "r",
   "version": "4.3.1"
  }
 },
 "nbformat": 4,
 "nbformat_minor": 4
}
