{
 "cells": [
  {
   "cell_type": "markdown",
   "metadata": {},
   "source": [
    "# **Car Evaluation Analysis**\n",
    "\n",
    "### DSCI 310 2024W Group 5\n",
    "\n",
    "#### Authors:\n",
    "- Nika Karimi Seffat\n",
    "- Ethan Wang\n",
    "- Gautam Arora\n",
    "- Kevin Li"
   ]
  },
  {
   "cell_type": "markdown",
   "metadata": {},
   "source": [
    "### **Introduction**\n",
    "\n",
    "**Background**: \n",
    "\n",
    "Cars and personal transportation are an inevitable part of everyday life in the developed world. They play a crucial role in people's daily routines, enabling them to commute to work, travel, attend social gatherings, and explore new places. However, cars also pose significant safety risks. In 2023 alone, car accidents accounted for over 40,000 fatalities (Wikipedia Contributors, 2019). Given these risks, it is no surprise that many individuals seek ways to make car travel safer while maintaining its convenience and necessity.\n",
    "\n",
    "Research has shown that consumers are willing to invest in vehicle safety. For example, Andersson (2008) found that Swedish drivers were willing to pay a premium for improved car design and build quality to reduce the risk of injury in accidents. Additionally, design and material choices play a critical role in determining a vehicle's safety. Nygren (1983) found that factors such as a car’s weight, seatbelt design, and headrests significantly influenced accident survivability. More recently, Richter et al. (2005) demonstrated that passive safety improvements—such as enhanced structural integrity and interior design modifications—have contributed to a measurable decline in injury rates from car accidents. These findings highlight the importance of identifying key factors that contribute to vehicle safety.\n",
    "\n",
    "Given this context, our research project aims to answer the following question:\n",
    "\n",
    "**Can we predict the estimated safety of a car using various attributes, such as its buying price, capacity, and maintenance cost?**\n",
    "\n",
    "To answer this question, we will use the Car Evaluation Dataset from UC Irvine’s Machine Learning Repository. This multivariate classification dataset contains six car design and classification variables, and includes 1,728 observations. Key variables that will be central to our analysis include the car’s buying price, maintenance cost, seating capacity (in terms of the number of passengers it can accommodate), and the car’s evaluation level (categorized as unacceptable, acceptable, good, or very good)."
   ]
  },
  {
   "cell_type": "markdown",
   "metadata": {
    "vscode": {
     "languageId": "plaintext"
    }
   },
   "source": [
    "## **Methods and Results**"
   ]
  },
  {
   "cell_type": "markdown",
   "metadata": {},
   "source": [
    "### Data Loading\n",
    "\n",
    "The dataset was retrieved from an online source and loaded into R for analysis using the read.csv function. This dataset contains categorical variables describing various attributes of cars, which will be used for classification."
   ]
  },
  {
   "cell_type": "code",
   "execution_count": 2,
   "metadata": {},
   "outputs": [
    {
     "name": "stdout",
     "output_type": "stream",
     "text": [
      "\n",
      "The downloaded binary packages are in\n",
      "\t/var/folders/nv/0gqlq9fj4nqg803htx3l1hw40000gn/T//RtmpF2dfyy/downloaded_packages\n",
      "\n",
      "The downloaded binary packages are in\n",
      "\t/var/folders/nv/0gqlq9fj4nqg803htx3l1hw40000gn/T//RtmpF2dfyy/downloaded_packages\n",
      "\n",
      "The downloaded binary packages are in\n",
      "\t/var/folders/nv/0gqlq9fj4nqg803htx3l1hw40000gn/T//RtmpF2dfyy/downloaded_packages\n"
     ]
    }
   ],
   "source": [
    "install.packages(\"tidyverse\")\n",
    "install.packages(\"class\")\n",
    "install.packages(\"caret\")"
   ]
  },
  {
   "cell_type": "code",
   "execution_count": 3,
   "metadata": {},
   "outputs": [
    {
     "name": "stderr",
     "output_type": "stream",
     "text": [
      "── \u001b[1mAttaching core tidyverse packages\u001b[22m ──────────────────────── tidyverse 2.0.0 ──\n",
      "\u001b[32m✔\u001b[39m \u001b[34mdplyr    \u001b[39m 1.1.4     \u001b[32m✔\u001b[39m \u001b[34mreadr    \u001b[39m 2.1.5\n",
      "\u001b[32m✔\u001b[39m \u001b[34mforcats  \u001b[39m 1.0.0     \u001b[32m✔\u001b[39m \u001b[34mstringr  \u001b[39m 1.5.1\n",
      "\u001b[32m✔\u001b[39m \u001b[34mggplot2  \u001b[39m 3.5.1     \u001b[32m✔\u001b[39m \u001b[34mtibble   \u001b[39m 3.2.1\n",
      "\u001b[32m✔\u001b[39m \u001b[34mlubridate\u001b[39m 1.9.4     \u001b[32m✔\u001b[39m \u001b[34mtidyr    \u001b[39m 1.3.1\n",
      "\u001b[32m✔\u001b[39m \u001b[34mpurrr    \u001b[39m 1.0.2     \n",
      "── \u001b[1mConflicts\u001b[22m ────────────────────────────────────────── tidyverse_conflicts() ──\n",
      "\u001b[31m✖\u001b[39m \u001b[34mdplyr\u001b[39m::\u001b[32mfilter()\u001b[39m masks \u001b[34mstats\u001b[39m::filter()\n",
      "\u001b[31m✖\u001b[39m \u001b[34mdplyr\u001b[39m::\u001b[32mlag()\u001b[39m    masks \u001b[34mstats\u001b[39m::lag()\n",
      "\u001b[36mℹ\u001b[39m Use the conflicted package (\u001b[3m\u001b[34m<http://conflicted.r-lib.org/>\u001b[39m\u001b[23m) to force all conflicts to become errors\n",
      "Loading required package: lattice\n",
      "\n",
      "\n",
      "Attaching package: ‘caret’\n",
      "\n",
      "\n",
      "The following object is masked from ‘package:purrr’:\n",
      "\n",
      "    lift\n",
      "\n",
      "\n"
     ]
    }
   ],
   "source": [
    "# First, we will load the required libraries necessary to perform data wrangling, visualization, and analysis.\n",
    "library(tidyverse) # Contains dplyr, ggplot2, and other libraries to perform data cleaning and visualization.\n",
    "library(class) # For the kNN Classifier.\n",
    "library(caret) # For train-test-split and cross-validation."
   ]
  },
  {
   "cell_type": "code",
   "execution_count": 4,
   "metadata": {},
   "outputs": [
    {
     "data": {
      "text/html": [
       "<table class=\"dataframe\">\n",
       "<caption>A data.frame: 6 × 7</caption>\n",
       "<thead>\n",
       "\t<tr><th></th><th scope=col>V1</th><th scope=col>V2</th><th scope=col>V3</th><th scope=col>V4</th><th scope=col>V5</th><th scope=col>V6</th><th scope=col>V7</th></tr>\n",
       "\t<tr><th></th><th scope=col>&lt;fct&gt;</th><th scope=col>&lt;fct&gt;</th><th scope=col>&lt;fct&gt;</th><th scope=col>&lt;fct&gt;</th><th scope=col>&lt;fct&gt;</th><th scope=col>&lt;fct&gt;</th><th scope=col>&lt;fct&gt;</th></tr>\n",
       "</thead>\n",
       "<tbody>\n",
       "\t<tr><th scope=row>1</th><td>vhigh</td><td>vhigh</td><td>2</td><td>2</td><td>small</td><td>low </td><td>unacc</td></tr>\n",
       "\t<tr><th scope=row>2</th><td>vhigh</td><td>vhigh</td><td>2</td><td>2</td><td>small</td><td>med </td><td>unacc</td></tr>\n",
       "\t<tr><th scope=row>3</th><td>vhigh</td><td>vhigh</td><td>2</td><td>2</td><td>small</td><td>high</td><td>unacc</td></tr>\n",
       "\t<tr><th scope=row>4</th><td>vhigh</td><td>vhigh</td><td>2</td><td>2</td><td>med  </td><td>low </td><td>unacc</td></tr>\n",
       "\t<tr><th scope=row>5</th><td>vhigh</td><td>vhigh</td><td>2</td><td>2</td><td>med  </td><td>med </td><td>unacc</td></tr>\n",
       "\t<tr><th scope=row>6</th><td>vhigh</td><td>vhigh</td><td>2</td><td>2</td><td>med  </td><td>high</td><td>unacc</td></tr>\n",
       "</tbody>\n",
       "</table>\n"
      ],
      "text/latex": [
       "A data.frame: 6 × 7\n",
       "\\begin{tabular}{r|lllllll}\n",
       "  & V1 & V2 & V3 & V4 & V5 & V6 & V7\\\\\n",
       "  & <fct> & <fct> & <fct> & <fct> & <fct> & <fct> & <fct>\\\\\n",
       "\\hline\n",
       "\t1 & vhigh & vhigh & 2 & 2 & small & low  & unacc\\\\\n",
       "\t2 & vhigh & vhigh & 2 & 2 & small & med  & unacc\\\\\n",
       "\t3 & vhigh & vhigh & 2 & 2 & small & high & unacc\\\\\n",
       "\t4 & vhigh & vhigh & 2 & 2 & med   & low  & unacc\\\\\n",
       "\t5 & vhigh & vhigh & 2 & 2 & med   & med  & unacc\\\\\n",
       "\t6 & vhigh & vhigh & 2 & 2 & med   & high & unacc\\\\\n",
       "\\end{tabular}\n"
      ],
      "text/markdown": [
       "\n",
       "A data.frame: 6 × 7\n",
       "\n",
       "| <!--/--> | V1 &lt;fct&gt; | V2 &lt;fct&gt; | V3 &lt;fct&gt; | V4 &lt;fct&gt; | V5 &lt;fct&gt; | V6 &lt;fct&gt; | V7 &lt;fct&gt; |\n",
       "|---|---|---|---|---|---|---|---|\n",
       "| 1 | vhigh | vhigh | 2 | 2 | small | low  | unacc |\n",
       "| 2 | vhigh | vhigh | 2 | 2 | small | med  | unacc |\n",
       "| 3 | vhigh | vhigh | 2 | 2 | small | high | unacc |\n",
       "| 4 | vhigh | vhigh | 2 | 2 | med   | low  | unacc |\n",
       "| 5 | vhigh | vhigh | 2 | 2 | med   | med  | unacc |\n",
       "| 6 | vhigh | vhigh | 2 | 2 | med   | high | unacc |\n",
       "\n"
      ],
      "text/plain": [
       "  V1    V2    V3 V4 V5    V6   V7   \n",
       "1 vhigh vhigh 2  2  small low  unacc\n",
       "2 vhigh vhigh 2  2  small med  unacc\n",
       "3 vhigh vhigh 2  2  small high unacc\n",
       "4 vhigh vhigh 2  2  med   low  unacc\n",
       "5 vhigh vhigh 2  2  med   med  unacc\n",
       "6 vhigh vhigh 2  2  med   high unacc"
      ]
     },
     "metadata": {},
     "output_type": "display_data"
    }
   ],
   "source": [
    "# Loading the dataset from the web\n",
    "url <- \"https://archive.ics.uci.edu/ml/machine-learning-databases/car/car.data\"\n",
    "car_data <- read.csv(url, header = FALSE, stringsAsFactors = TRUE) # since all input variables are categorical, we set the data type to a factor.\n",
    "\n",
    "# Display first few rows\n",
    "head(car_data)"
   ]
  },
  {
   "cell_type": "markdown",
   "metadata": {},
   "source": [
    "Although the dataset comes with predefined columns, it does not include column names when we read in the CSV file. We manually assign meaningful column names based on the UCI dataset documentation."
   ]
  },
  {
   "cell_type": "code",
   "execution_count": 5,
   "metadata": {},
   "outputs": [
    {
     "data": {
      "text/html": [
       "<table class=\"dataframe\">\n",
       "<caption>A data.frame: 6 × 7</caption>\n",
       "<thead>\n",
       "\t<tr><th></th><th scope=col>buying</th><th scope=col>maint</th><th scope=col>doors</th><th scope=col>persons</th><th scope=col>lug_boot</th><th scope=col>safety</th><th scope=col>class</th></tr>\n",
       "\t<tr><th></th><th scope=col>&lt;fct&gt;</th><th scope=col>&lt;fct&gt;</th><th scope=col>&lt;fct&gt;</th><th scope=col>&lt;fct&gt;</th><th scope=col>&lt;fct&gt;</th><th scope=col>&lt;fct&gt;</th><th scope=col>&lt;fct&gt;</th></tr>\n",
       "</thead>\n",
       "<tbody>\n",
       "\t<tr><th scope=row>1</th><td>vhigh</td><td>vhigh</td><td>2</td><td>2</td><td>small</td><td>low </td><td>unacc</td></tr>\n",
       "\t<tr><th scope=row>2</th><td>vhigh</td><td>vhigh</td><td>2</td><td>2</td><td>small</td><td>med </td><td>unacc</td></tr>\n",
       "\t<tr><th scope=row>3</th><td>vhigh</td><td>vhigh</td><td>2</td><td>2</td><td>small</td><td>high</td><td>unacc</td></tr>\n",
       "\t<tr><th scope=row>4</th><td>vhigh</td><td>vhigh</td><td>2</td><td>2</td><td>med  </td><td>low </td><td>unacc</td></tr>\n",
       "\t<tr><th scope=row>5</th><td>vhigh</td><td>vhigh</td><td>2</td><td>2</td><td>med  </td><td>med </td><td>unacc</td></tr>\n",
       "\t<tr><th scope=row>6</th><td>vhigh</td><td>vhigh</td><td>2</td><td>2</td><td>med  </td><td>high</td><td>unacc</td></tr>\n",
       "</tbody>\n",
       "</table>\n"
      ],
      "text/latex": [
       "A data.frame: 6 × 7\n",
       "\\begin{tabular}{r|lllllll}\n",
       "  & buying & maint & doors & persons & lug\\_boot & safety & class\\\\\n",
       "  & <fct> & <fct> & <fct> & <fct> & <fct> & <fct> & <fct>\\\\\n",
       "\\hline\n",
       "\t1 & vhigh & vhigh & 2 & 2 & small & low  & unacc\\\\\n",
       "\t2 & vhigh & vhigh & 2 & 2 & small & med  & unacc\\\\\n",
       "\t3 & vhigh & vhigh & 2 & 2 & small & high & unacc\\\\\n",
       "\t4 & vhigh & vhigh & 2 & 2 & med   & low  & unacc\\\\\n",
       "\t5 & vhigh & vhigh & 2 & 2 & med   & med  & unacc\\\\\n",
       "\t6 & vhigh & vhigh & 2 & 2 & med   & high & unacc\\\\\n",
       "\\end{tabular}\n"
      ],
      "text/markdown": [
       "\n",
       "A data.frame: 6 × 7\n",
       "\n",
       "| <!--/--> | buying &lt;fct&gt; | maint &lt;fct&gt; | doors &lt;fct&gt; | persons &lt;fct&gt; | lug_boot &lt;fct&gt; | safety &lt;fct&gt; | class &lt;fct&gt; |\n",
       "|---|---|---|---|---|---|---|---|\n",
       "| 1 | vhigh | vhigh | 2 | 2 | small | low  | unacc |\n",
       "| 2 | vhigh | vhigh | 2 | 2 | small | med  | unacc |\n",
       "| 3 | vhigh | vhigh | 2 | 2 | small | high | unacc |\n",
       "| 4 | vhigh | vhigh | 2 | 2 | med   | low  | unacc |\n",
       "| 5 | vhigh | vhigh | 2 | 2 | med   | med  | unacc |\n",
       "| 6 | vhigh | vhigh | 2 | 2 | med   | high | unacc |\n",
       "\n"
      ],
      "text/plain": [
       "  buying maint doors persons lug_boot safety class\n",
       "1 vhigh  vhigh 2     2       small    low    unacc\n",
       "2 vhigh  vhigh 2     2       small    med    unacc\n",
       "3 vhigh  vhigh 2     2       small    high   unacc\n",
       "4 vhigh  vhigh 2     2       med      low    unacc\n",
       "5 vhigh  vhigh 2     2       med      med    unacc\n",
       "6 vhigh  vhigh 2     2       med      high   unacc"
      ]
     },
     "metadata": {},
     "output_type": "display_data"
    }
   ],
   "source": [
    "# Assigning the column names\n",
    "colnames(car_data) <- c(\"buying\", \"maint\", \"doors\", \"persons\", \"lug_boot\", \"safety\", \"class\")\n",
    "head(car_data)"
   ]
  },
  {
   "cell_type": "markdown",
   "metadata": {},
   "source": [
    "#### Data Wrangling and Cleaning"
   ]
  },
  {
   "cell_type": "code",
   "execution_count": 6,
   "metadata": {},
   "outputs": [
    {
     "data": {
      "text/html": [
       "0"
      ],
      "text/latex": [
       "0"
      ],
      "text/markdown": [
       "0"
      ],
      "text/plain": [
       "[1] 0"
      ]
     },
     "metadata": {},
     "output_type": "display_data"
    }
   ],
   "source": [
    "# Checking for missing values:\n",
    "sum(is.na(car_data))"
   ]
  },
  {
   "cell_type": "markdown",
   "metadata": {},
   "source": [
    "Amazing! No missing values to drop or account for."
   ]
  },
  {
   "cell_type": "code",
   "execution_count": 8,
   "metadata": {},
   "outputs": [
    {
     "data": {
      "text/html": [
       "1728"
      ],
      "text/latex": [
       "1728"
      ],
      "text/markdown": [
       "1728"
      ],
      "text/plain": [
       "[1] 1728"
      ]
     },
     "metadata": {},
     "output_type": "display_data"
    }
   ],
   "source": [
    "# Check for duplicate values:\n",
    "# Remove duplicate rows (if any)\n",
    "car_data <- car_data %>% distinct()\n",
    "nrow(car_data)"
   ]
  },
  {
   "cell_type": "markdown",
   "metadata": {},
   "source": [
    "We have the same number of rows as before - there were no duplicate rows!"
   ]
  },
  {
   "cell_type": "markdown",
   "metadata": {},
   "source": [
    "#### Data Types\n",
    "\n",
    "Since k-Nearest Neighbors (kNN) is a distance-based algorithm, it requires numerical input for feature comparisons. However, our dataset currently consists of categorical variables (all factors in R)."
   ]
  },
  {
   "cell_type": "code",
   "execution_count": 19,
   "metadata": {},
   "outputs": [
    {
     "data": {
      "text/html": [
       "<table class=\"dataframe\">\n",
       "<caption>A data.frame: 6 × 7</caption>\n",
       "<thead>\n",
       "\t<tr><th></th><th scope=col>buying</th><th scope=col>maint</th><th scope=col>doors</th><th scope=col>persons</th><th scope=col>lug_boot</th><th scope=col>safety</th><th scope=col>class</th></tr>\n",
       "\t<tr><th></th><th scope=col>&lt;dbl&gt;</th><th scope=col>&lt;dbl&gt;</th><th scope=col>&lt;dbl&gt;</th><th scope=col>&lt;dbl&gt;</th><th scope=col>&lt;dbl&gt;</th><th scope=col>&lt;fct&gt;</th><th scope=col>&lt;dbl&gt;</th></tr>\n",
       "</thead>\n",
       "<tbody>\n",
       "\t<tr><th scope=row>1</th><td>4</td><td>4</td><td>2</td><td>2</td><td>1</td><td>low </td><td>1</td></tr>\n",
       "\t<tr><th scope=row>2</th><td>4</td><td>4</td><td>2</td><td>2</td><td>1</td><td>med </td><td>1</td></tr>\n",
       "\t<tr><th scope=row>3</th><td>4</td><td>4</td><td>2</td><td>2</td><td>1</td><td>high</td><td>1</td></tr>\n",
       "\t<tr><th scope=row>4</th><td>4</td><td>4</td><td>2</td><td>2</td><td>2</td><td>low </td><td>1</td></tr>\n",
       "\t<tr><th scope=row>5</th><td>4</td><td>4</td><td>2</td><td>2</td><td>2</td><td>med </td><td>1</td></tr>\n",
       "\t<tr><th scope=row>6</th><td>4</td><td>4</td><td>2</td><td>2</td><td>2</td><td>high</td><td>1</td></tr>\n",
       "</tbody>\n",
       "</table>\n"
      ],
      "text/latex": [
       "A data.frame: 6 × 7\n",
       "\\begin{tabular}{r|lllllll}\n",
       "  & buying & maint & doors & persons & lug\\_boot & safety & class\\\\\n",
       "  & <dbl> & <dbl> & <dbl> & <dbl> & <dbl> & <fct> & <dbl>\\\\\n",
       "\\hline\n",
       "\t1 & 4 & 4 & 2 & 2 & 1 & low  & 1\\\\\n",
       "\t2 & 4 & 4 & 2 & 2 & 1 & med  & 1\\\\\n",
       "\t3 & 4 & 4 & 2 & 2 & 1 & high & 1\\\\\n",
       "\t4 & 4 & 4 & 2 & 2 & 2 & low  & 1\\\\\n",
       "\t5 & 4 & 4 & 2 & 2 & 2 & med  & 1\\\\\n",
       "\t6 & 4 & 4 & 2 & 2 & 2 & high & 1\\\\\n",
       "\\end{tabular}\n"
      ],
      "text/markdown": [
       "\n",
       "A data.frame: 6 × 7\n",
       "\n",
       "| <!--/--> | buying &lt;dbl&gt; | maint &lt;dbl&gt; | doors &lt;dbl&gt; | persons &lt;dbl&gt; | lug_boot &lt;dbl&gt; | safety &lt;fct&gt; | class &lt;dbl&gt; |\n",
       "|---|---|---|---|---|---|---|---|\n",
       "| 1 | 4 | 4 | 2 | 2 | 1 | low  | 1 |\n",
       "| 2 | 4 | 4 | 2 | 2 | 1 | med  | 1 |\n",
       "| 3 | 4 | 4 | 2 | 2 | 1 | high | 1 |\n",
       "| 4 | 4 | 4 | 2 | 2 | 2 | low  | 1 |\n",
       "| 5 | 4 | 4 | 2 | 2 | 2 | med  | 1 |\n",
       "| 6 | 4 | 4 | 2 | 2 | 2 | high | 1 |\n",
       "\n"
      ],
      "text/plain": [
       "  buying maint doors persons lug_boot safety class\n",
       "1 4      4     2     2       1        low    1    \n",
       "2 4      4     2     2       1        med    1    \n",
       "3 4      4     2     2       1        high   1    \n",
       "4 4      4     2     2       2        low    1    \n",
       "5 4      4     2     2       2        med    1    \n",
       "6 4      4     2     2       2        high   1    "
      ]
     },
     "metadata": {},
     "output_type": "display_data"
    }
   ],
   "source": [
    "# Every variable in this dataset is an ordinal variable - it falls under the categorical variables that have a natural relationship or hierarchy to them.\n",
    "# We can use ordinal encoding to transform these factor variables into double so kNN can be used on them. Scaling is NOT needed here.\n",
    "\n",
    "# Define encoding function for all categorical features (\n",
    "encode_levels <- function(x) {\n",
    "  case_when(\n",
    "    x == \"vhigh\"  ~ 4,   # Applies to buying and maint variables\n",
    "    x == \"high\"   ~ 3,\n",
    "    x == \"med\"    ~ 2,\n",
    "    x == \"low\"    ~ 1,\n",
    "    x == \"big\"    ~ 3,\n",
    "    x == \"small\"  ~ 1,\n",
    "    x == \"more\"   ~ 5,   # 'more' in persons column treated as 5\n",
    "    x == \"5more\"  ~ 5,   # '5more' in doors column treated as 5\n",
    "    x == \"2\"      ~ 2,\n",
    "    x == \"3\"      ~ 3,\n",
    "    x == \"4\"      ~ 4,\n",
    "    x == \"unacc\"  ~ 1,\n",
    "    x == \"acc\"    ~ 2,\n",
    "    x == \"good\"   ~ 3,\n",
    "    x == \"vgood\"  ~ 4,\n",
    "    x == \"low\"    ~ 1,   # Encoding safety\n",
    "    x == \"med\"    ~ 2,   # Encoding safety\n",
    "    x == \"high\"   ~ 3,   # Encoding safety\n",
    "    TRUE          ~ as.numeric(x) # Default conversion for numbers\n",
    "  )\n",
    "}\n",
    "\n",
    "# Apply encoding to all columns except the target variable (safety)\n",
    "car_data_encoded <- car_data %>%\n",
    "  mutate(across(-safety, encode_levels)) %>%\n",
    "  mutate(safety = as.factor(safety))  # Keep target as a factor for classification\n",
    "\n",
    "# Display first few rows\n",
    "head(car_data_encoded)"
   ]
  },
  {
   "cell_type": "markdown",
   "metadata": {},
   "source": [
    "### **References**\n",
    "\n",
    "- Andersson, H. (2008). Willingness to pay for car safety: evidence from Sweden.    Environmental and Resource Economics, 41, 579-594.\n",
    "\n",
    "- Nygren, Å. (1983). Injuries to car occupants—Some aspects of the interior safety of cars: A study of a five-year material from an insurance company. Acta Oto-Laryngologica, 95(sup395), 1-135.\n",
    "\n",
    "- Richter, M., Pape, H. C., Otte, D., & Krettek, C. (2005). Improvements in passive car safety led to decreased injury severity–a comparison between the 1970s and 1990s. Injury, 36(4), 484-488.\n",
    "\n",
    "- Wood, D. P. (1997). Safety and the car size effect: A fundamental explanation. Accident Analysis & Prevention, 29(2), 139-151.\n",
    "\n",
    "- Wikipedia Contributors. (2019, March 21). Motor vehicle fatality rate in U.S. by year. Wikipedia; Wikimedia Foundation. https://en.wikipedia.org/wiki/Motor_vehicle_fatality_rate_in_U.S._by_year"
   ]
  },
  {
   "cell_type": "code",
   "execution_count": null,
   "metadata": {},
   "outputs": [],
   "source": []
  }
 ],
 "metadata": {
  "kernelspec": {
   "display_name": "R",
   "language": "R",
   "name": "ir"
  },
  "language_info": {
   "codemirror_mode": "r",
   "file_extension": ".r",
   "mimetype": "text/x-r-source",
   "name": "R",
   "pygments_lexer": "r",
   "version": "4.4.2"
  }
 },
 "nbformat": 4,
 "nbformat_minor": 4
}
